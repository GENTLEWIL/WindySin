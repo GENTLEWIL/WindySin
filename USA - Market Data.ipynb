{
 "cells": [
  {
   "cell_type": "code",
   "execution_count": 47,
   "id": "727478e3",
   "metadata": {},
   "outputs": [],
   "source": [
    "import pandas as pd\n",
    "import numpy as np\n",
    "import statsmodels.api as sm"
   ]
  },
  {
   "cell_type": "code",
   "execution_count": 48,
   "id": "c577f46b",
   "metadata": {},
   "outputs": [],
   "source": [
    "market_value_df = pd.read_csv('Data/Monthly - Market Value.csv')\n",
    "market_value_df['date'] = pd.to_datetime(market_value_df['date']).dt.to_period('M').astype(str)"
   ]
  },
  {
   "cell_type": "code",
   "execution_count": 49,
   "id": "5717faae",
   "metadata": {},
   "outputs": [],
   "source": [
    "momentum_df = pd.read_csv('Data/Monthly - Momentum.csv')\n",
    "momentum_df['date'] = pd.to_datetime(momentum_df['date']).dt.to_period('M').astype(str)"
   ]
  },
  {
   "cell_type": "code",
   "execution_count": 50,
   "id": "80fb8102",
   "metadata": {},
   "outputs": [],
   "source": [
    "merged_df = pd.merge(market_value_df, momentum_df, on=['date', 'TICKER', 'PERMNO', 'SICCD', 'COMNAM', 'NAICS', 'PRC'], how='inner')"
   ]
  },
  {
   "cell_type": "code",
   "execution_count": 5,
   "id": "7537d6cb",
   "metadata": {},
   "outputs": [],
   "source": [
    "merged_df.to_csv('Data/Monthly_Merged.csv', index=False)"
   ]
  },
  {
   "cell_type": "code",
   "execution_count": 51,
   "id": "e9db8a05",
   "metadata": {},
   "outputs": [
    {
     "name": "stdout",
     "output_type": "stream",
     "text": [
      "<class 'pandas.core.frame.DataFrame'>\n",
      "RangeIndex: 117558 entries, 0 to 117557\n",
      "Data columns (total 10 columns):\n",
      " #   Column  Non-Null Count   Dtype  \n",
      "---  ------  --------------   -----  \n",
      " 0   PERMNO  117558 non-null  int64  \n",
      " 1   date    117558 non-null  object \n",
      " 2   SICCD   117442 non-null  float64\n",
      " 3   TICKER  117144 non-null  object \n",
      " 4   COMNAM  117442 non-null  object \n",
      " 5   NAICS   114872 non-null  float64\n",
      " 6   PRC     117064 non-null  float64\n",
      " 7   SHROUT  117428 non-null  float64\n",
      " 8   VOL     117135 non-null  float64\n",
      " 9   RET     117362 non-null  object \n",
      "dtypes: float64(5), int64(1), object(4)\n",
      "memory usage: 9.0+ MB\n",
      "None\n"
     ]
    }
   ],
   "source": [
    "print(merged_df.info())"
   ]
  },
  {
   "cell_type": "code",
   "execution_count": 52,
   "id": "6f0c8f01",
   "metadata": {},
   "outputs": [
    {
     "name": "stdout",
     "output_type": "stream",
     "text": [
      "PERMNO       0\n",
      "date         0\n",
      "SICCD      116\n",
      "TICKER     414\n",
      "COMNAM     116\n",
      "NAICS     2686\n",
      "PRC        494\n",
      "SHROUT     130\n",
      "VOL        423\n",
      "RET        196\n",
      "dtype: int64\n"
     ]
    }
   ],
   "source": [
    "missing_values = merged_df.isnull().sum()\n",
    "print(missing_values)"
   ]
  },
  {
   "cell_type": "code",
   "execution_count": 53,
   "id": "ee2adc10",
   "metadata": {},
   "outputs": [
    {
     "name": "stdout",
     "output_type": "stream",
     "text": [
      "        PERMNO     date   SICCD TICKER       COMNAM  NAICS    PRC     SHROUT  \\\n",
      "0        10104  2004-01  7370.0   ORCL  ORACLE CORP    NaN  13.86  5227587.0   \n",
      "1        10104  2004-02  7370.0   ORCL  ORACLE CORP    NaN  12.87  5195000.0   \n",
      "2        10104  2004-03  7370.0   ORCL  ORACLE CORP    NaN  12.00  5194988.0   \n",
      "3        10104  2004-04  7370.0   ORCL  ORACLE CORP    NaN  11.25  5194988.0   \n",
      "4        10104  2004-05  7370.0   ORCL  ORACLE CORP    NaN  11.40  5171000.0   \n",
      "...        ...      ...     ...    ...          ...    ...    ...        ...   \n",
      "116720   93096  2009-10     NaN    NaN          NaN    NaN    NaN        NaN   \n",
      "116891   93132  2009-10     NaN    NaN          NaN    NaN    NaN        NaN   \n",
      "117062   93246  2010-01     NaN    NaN          NaN    NaN    NaN        NaN   \n",
      "117230   93429  2010-05     NaN    NaN          NaN    NaN    NaN        NaN   \n",
      "117394   93436  2010-05     NaN    NaN          NaN    NaN    NaN        NaN   \n",
      "\n",
      "               VOL        RET  \n",
      "0        8814230.0   0.047619  \n",
      "1        7175345.0  -0.071429  \n",
      "2       13475836.0  -0.067599  \n",
      "3        9339864.0  -0.062500  \n",
      "4        7832542.0   0.013333  \n",
      "...            ...        ...  \n",
      "116720         NaN        NaN  \n",
      "116891         NaN        NaN  \n",
      "117062         NaN        NaN  \n",
      "117230         NaN        NaN  \n",
      "117394         NaN        NaN  \n",
      "\n",
      "[3038 rows x 10 columns]\n"
     ]
    }
   ],
   "source": [
    "rows_with_missing_values = merged_df[merged_df.isnull().any(axis=1)]\n",
    "print(rows_with_missing_values)"
   ]
  },
  {
   "cell_type": "code",
   "execution_count": 54,
   "id": "d4c966bb",
   "metadata": {},
   "outputs": [],
   "source": [
    "company_info = merged_df.groupby('TICKER')[['SICCD', 'COMNAM', 'NAICS']].first().reset_index()\n",
    "merged_df = merged_df.drop(columns=['SICCD', 'COMNAM', 'NAICS'])\n",
    "merged_df = pd.merge(merged_df, company_info, on='TICKER', how='left')"
   ]
  },
  {
   "cell_type": "code",
   "execution_count": 55,
   "id": "5b66d21c",
   "metadata": {},
   "outputs": [
    {
     "name": "stdout",
     "output_type": "stream",
     "text": [
      "PERMNO      0\n",
      "date        0\n",
      "TICKER    414\n",
      "PRC       494\n",
      "SHROUT    130\n",
      "VOL       423\n",
      "RET       196\n",
      "SICCD     414\n",
      "COMNAM    414\n",
      "NAICS     417\n",
      "dtype: int64\n"
     ]
    }
   ],
   "source": [
    "missing_values = merged_df.isnull().sum()\n",
    "print(missing_values)"
   ]
  },
  {
   "cell_type": "code",
   "execution_count": 56,
   "id": "351ef73a",
   "metadata": {},
   "outputs": [],
   "source": [
    "company_info_by_permno = merged_df.groupby('PERMNO')[['TICKER', 'COMNAM']].first().reset_index()\n",
    "merged_df = pd.merge(merged_df, company_info_by_permno, on='PERMNO', suffixes=('', '_from_permno'), how='left')\n",
    "merged_df['TICKER'] = merged_df['TICKER'].fillna(merged_df['TICKER_from_permno'])\n",
    "merged_df['COMNAM'] = merged_df['COMNAM'].fillna(merged_df['COMNAM_from_permno'])\n",
    "merged_df = merged_df.drop(columns=['TICKER_from_permno', 'COMNAM_from_permno'])"
   ]
  },
  {
   "cell_type": "code",
   "execution_count": 57,
   "id": "d04626f3",
   "metadata": {},
   "outputs": [
    {
     "name": "stdout",
     "output_type": "stream",
     "text": [
      "PERMNO      0\n",
      "date        0\n",
      "TICKER      0\n",
      "PRC       494\n",
      "SHROUT    130\n",
      "VOL       423\n",
      "RET       196\n",
      "SICCD     414\n",
      "COMNAM      0\n",
      "NAICS     417\n",
      "dtype: int64\n"
     ]
    }
   ],
   "source": [
    "missing_values_after_fill = merged_df.isnull().sum()\n",
    "print(missing_values_after_fill)"
   ]
  },
  {
   "cell_type": "code",
   "execution_count": 58,
   "id": "84e75cc6",
   "metadata": {},
   "outputs": [],
   "source": [
    "company_info_by_permno = merged_df.groupby('PERMNO')[['SICCD', 'NAICS']].first().reset_index()\n",
    "merged_df = pd.merge(merged_df, company_info_by_permno, on='PERMNO', suffixes=('', '_from_permno'), how='left')\n",
    "\n",
    "merged_df['SICCD'] = merged_df['SICCD'].fillna(merged_df['SICCD_from_permno'])\n",
    "merged_df['NAICS'] = merged_df['NAICS'].fillna(merged_df['NAICS_from_permno'])\n",
    "\n",
    "merged_df = merged_df.drop(columns=['SICCD_from_permno', 'NAICS_from_permno'])"
   ]
  },
  {
   "cell_type": "code",
   "execution_count": 59,
   "id": "f6806926",
   "metadata": {},
   "outputs": [
    {
     "name": "stdout",
     "output_type": "stream",
     "text": [
      "PERMNO      0\n",
      "date        0\n",
      "TICKER      0\n",
      "PRC       494\n",
      "SHROUT    130\n",
      "VOL       423\n",
      "RET       196\n",
      "SICCD       0\n",
      "COMNAM      0\n",
      "NAICS       0\n",
      "dtype: int64\n"
     ]
    }
   ],
   "source": [
    "missing_values_after_fill = merged_df.isnull().sum()\n",
    "print(missing_values_after_fill)"
   ]
  },
  {
   "cell_type": "code",
   "execution_count": 60,
   "id": "d9740e92",
   "metadata": {},
   "outputs": [
    {
     "name": "stdout",
     "output_type": "stream",
     "text": [
      "不重复的 TICKER 数量: 629\n",
      "拥有完整 240 条数据的 TICKER 数量: 328\n"
     ]
    }
   ],
   "source": [
    "unique_tickers = merged_df['TICKER'].nunique()\n",
    "print(f\"不重复的 TICKER 数量: {unique_tickers}\")\n",
    "\n",
    "complete_data_per_ticker = merged_df.dropna(subset=['PRC', 'SHROUT', 'VOL', 'RET']).groupby('TICKER').size()\n",
    "\n",
    "tickers_with_240_complete_records = complete_data_per_ticker[complete_data_per_ticker == 240].size\n",
    "print(f\"拥有完整 240 条数据的 TICKER 数量: {tickers_with_240_complete_records}\")"
   ]
  },
  {
   "cell_type": "code",
   "execution_count": 61,
   "id": "5096d1bf",
   "metadata": {},
   "outputs": [],
   "source": [
    "num_cols = ['PRC', 'SHROUT', 'VOL', 'RET']\n",
    "for col in num_cols:\n",
    "    merged_df[col] = pd.to_numeric(merged_df[col], errors='coerce')"
   ]
  },
  {
   "cell_type": "code",
   "execution_count": 62,
   "id": "19d33c93",
   "metadata": {},
   "outputs": [],
   "source": [
    "def fill_missing_with_median(df, columns, groupby_col):\n",
    "    for col in columns:\n",
    "        df[col] = df.groupby(groupby_col)[col].transform(lambda x: x.fillna(x.median()))\n",
    "    return df\n",
    "\n",
    "columns_to_fill = ['PRC', 'SHROUT', 'VOL', 'RET']\n",
    "\n",
    "merged_df = fill_missing_with_median(merged_df, columns_to_fill, 'TICKER')"
   ]
  },
  {
   "cell_type": "code",
   "execution_count": 63,
   "id": "a2aafbfc",
   "metadata": {},
   "outputs": [
    {
     "name": "stdout",
     "output_type": "stream",
     "text": [
      "PERMNO    0\n",
      "date      0\n",
      "TICKER    0\n",
      "PRC       1\n",
      "SHROUT    0\n",
      "VOL       0\n",
      "RET       1\n",
      "SICCD     0\n",
      "COMNAM    0\n",
      "NAICS     0\n",
      "dtype: int64\n"
     ]
    }
   ],
   "source": [
    "missing_values_after_fill = merged_df.isnull().sum()\n",
    "print(missing_values_after_fill)"
   ]
  },
  {
   "cell_type": "code",
   "execution_count": 64,
   "id": "c4e35584",
   "metadata": {},
   "outputs": [
    {
     "name": "stdout",
     "output_type": "stream",
     "text": [
      "        PERMNO     date TICKER  PRC    SHROUT        VOL  RET   SICCD  \\\n",
      "108645   90441  2019-03  TFCFA  NaN  779853.0  2001929.0  NaN  2711.0   \n",
      "\n",
      "                              COMNAM     NAICS  \n",
      "108645  TWENTY FIRST CENTURY FOX INC  511110.0  \n"
     ]
    }
   ],
   "source": [
    "rows_with_missing_values = merged_df[merged_df.isnull().any(axis=1)]\n",
    "print(rows_with_missing_values)"
   ]
  },
  {
   "cell_type": "code",
   "execution_count": 65,
   "id": "188daa44",
   "metadata": {},
   "outputs": [
    {
     "name": "stdout",
     "output_type": "stream",
     "text": [
      "PERMNO    0\n",
      "date      0\n",
      "TICKER    0\n",
      "PRC       0\n",
      "SHROUT    0\n",
      "VOL       0\n",
      "RET       0\n",
      "SICCD     0\n",
      "COMNAM    0\n",
      "NAICS     0\n",
      "dtype: int64\n"
     ]
    }
   ],
   "source": [
    "merged_df = merged_df.fillna(0)\n",
    "missing_values_after_fill = merged_df.isnull().sum()\n",
    "print(missing_values_after_fill)"
   ]
  },
  {
   "cell_type": "code",
   "execution_count": 24,
   "id": "db7b33b9",
   "metadata": {},
   "outputs": [
    {
     "name": "stdout",
     "output_type": "stream",
     "text": [
      "<class 'pandas.core.frame.DataFrame'>\n",
      "RangeIndex: 117558 entries, 0 to 117557\n",
      "Data columns (total 10 columns):\n",
      " #   Column  Non-Null Count   Dtype  \n",
      "---  ------  --------------   -----  \n",
      " 0   PERMNO  117558 non-null  int64  \n",
      " 1   date    117558 non-null  object \n",
      " 2   TICKER  117558 non-null  object \n",
      " 3   PRC     117558 non-null  float64\n",
      " 4   SHROUT  117558 non-null  float64\n",
      " 5   VOL     117558 non-null  float64\n",
      " 6   RET     117558 non-null  float64\n",
      " 7   SICCD   117558 non-null  float64\n",
      " 8   COMNAM  117558 non-null  object \n",
      " 9   NAICS   117558 non-null  float64\n",
      "dtypes: float64(6), int64(1), object(3)\n",
      "memory usage: 9.0+ MB\n",
      "None\n"
     ]
    }
   ],
   "source": [
    "merged_df.to_csv('/Users/yuyangdou/RSM/BAM/11Model/Data/USA/2nd/Monthly_Merged1.csv', index=False)\n",
    "print(merged_df.info())"
   ]
  },
  {
   "cell_type": "markdown",
   "id": "abdf3079",
   "metadata": {},
   "source": [
    "# External Data - PredictorData2023"
   ]
  },
  {
   "cell_type": "code",
   "execution_count": 66,
   "id": "49b4661b",
   "metadata": {},
   "outputs": [],
   "source": [
    "predictor_df = pd.read_csv('Data/PredictorData2023 - Monthly.csv')\n",
    "predictor_df = predictor_df[['yyyymm', 'ntis', 'tbl']]"
   ]
  },
  {
   "cell_type": "code",
   "execution_count": 67,
   "id": "21ebe003",
   "metadata": {},
   "outputs": [],
   "source": [
    "predictor_df['yyyymm'] = pd.to_datetime(predictor_df['yyyymm'], format='%Y%m')\n",
    "\n",
    "start_date = '2004-01-01'\n",
    "end_date = '2023-12-31'\n",
    "predictor_df = predictor_df[(predictor_df['yyyymm'] >= start_date) & (predictor_df['yyyymm'] <= end_date)]"
   ]
  },
  {
   "cell_type": "code",
   "execution_count": 68,
   "id": "db04f66b",
   "metadata": {},
   "outputs": [],
   "source": [
    "predictor_df.rename(columns={'yyyymm': 'date'}, inplace=True)\n",
    "predictor_df['date'] = predictor_df['date'].dt.to_period('M').astype(str)"
   ]
  },
  {
   "cell_type": "code",
   "execution_count": 28,
   "id": "a6fa3d05",
   "metadata": {},
   "outputs": [
    {
     "name": "stdout",
     "output_type": "stream",
     "text": [
      "<class 'pandas.core.frame.DataFrame'>\n",
      "RangeIndex: 117558 entries, 0 to 117557\n",
      "Data columns (total 10 columns):\n",
      " #   Column  Non-Null Count   Dtype  \n",
      "---  ------  --------------   -----  \n",
      " 0   PERMNO  117558 non-null  int64  \n",
      " 1   date    117558 non-null  object \n",
      " 2   TICKER  117558 non-null  object \n",
      " 3   PRC     117558 non-null  float64\n",
      " 4   SHROUT  117558 non-null  float64\n",
      " 5   VOL     117558 non-null  float64\n",
      " 6   RET     117558 non-null  float64\n",
      " 7   SICCD   117558 non-null  float64\n",
      " 8   COMNAM  117558 non-null  object \n",
      " 9   NAICS   117558 non-null  float64\n",
      "dtypes: float64(6), int64(1), object(3)\n",
      "memory usage: 9.0+ MB\n",
      "None\n"
     ]
    }
   ],
   "source": [
    "predictor_df.to_csv('Data/Predictor_Monthly.csv', index=False)"
   ]
  },
  {
   "cell_type": "markdown",
   "id": "3a3b1313",
   "metadata": {},
   "source": [
    "# 2nd Merge"
   ]
  },
  {
   "cell_type": "code",
   "execution_count": 69,
   "id": "7f56c84c",
   "metadata": {},
   "outputs": [
    {
     "name": "stdout",
     "output_type": "stream",
     "text": [
      "<class 'pandas.core.frame.DataFrame'>\n",
      "RangeIndex: 117558 entries, 0 to 117557\n",
      "Data columns (total 12 columns):\n",
      " #   Column  Non-Null Count   Dtype  \n",
      "---  ------  --------------   -----  \n",
      " 0   PERMNO  117558 non-null  int64  \n",
      " 1   date    117558 non-null  object \n",
      " 2   TICKER  117558 non-null  object \n",
      " 3   PRC     117558 non-null  float64\n",
      " 4   SHROUT  117558 non-null  float64\n",
      " 5   VOL     117558 non-null  float64\n",
      " 6   RET     117558 non-null  float64\n",
      " 7   SICCD   117558 non-null  float64\n",
      " 8   COMNAM  117558 non-null  object \n",
      " 9   NAICS   117558 non-null  float64\n",
      " 10  ntis    117558 non-null  float64\n",
      " 11  tbl     117558 non-null  float64\n",
      "dtypes: float64(8), int64(1), object(3)\n",
      "memory usage: 10.8+ MB\n",
      "None\n"
     ]
    }
   ],
   "source": [
    "merge2_df = pd.merge(merged_df, predictor_df, on='date', how='left')\n",
    "\n",
    "merge2_df.to_csv('Data/Merge2_Monthly.csv', index=False)\n",
    "print(merge2_df.info())"
   ]
  },
  {
   "cell_type": "code",
   "execution_count": 70,
   "id": "cf70360e",
   "metadata": {},
   "outputs": [
    {
     "name": "stdout",
     "output_type": "stream",
     "text": [
      "PERMNO    0\n",
      "date      0\n",
      "TICKER    0\n",
      "PRC       0\n",
      "SHROUT    0\n",
      "VOL       0\n",
      "RET       0\n",
      "SICCD     0\n",
      "COMNAM    0\n",
      "NAICS     0\n",
      "ntis      0\n",
      "tbl       0\n",
      "dtype: int64\n"
     ]
    }
   ],
   "source": [
    "missing_values = merge2_df.isnull().sum()\n",
    "print(missing_values)"
   ]
  },
  {
   "cell_type": "markdown",
   "id": "10ceb5c4",
   "metadata": {},
   "source": [
    "# INDPRO & T10Y3MM"
   ]
  },
  {
   "cell_type": "code",
   "execution_count": 71,
   "id": "77ed8a2a",
   "metadata": {},
   "outputs": [],
   "source": [
    "indpro_df = pd.read_csv('/Users/yuyangdou/RSM/BAM/11Model/Data/USA/INDPRO.csv')\n",
    "indpro_df.rename(columns={'DATE': 'date'}, inplace=True)\n",
    "indpro_df['date'] = pd.to_datetime(indpro_df['date']).dt.to_period('M').astype(str)"
   ]
  },
  {
   "cell_type": "code",
   "execution_count": 72,
   "id": "430c86f0",
   "metadata": {},
   "outputs": [],
   "source": [
    "t10y3mm_df = pd.read_csv('/Users/yuyangdou/RSM/BAM/11Model/Data/USA/T10Y3MM.csv')\n",
    "t10y3mm_df.rename(columns={'DATE': 'date'}, inplace=True)\n",
    "t10y3mm_df['date'] = pd.to_datetime(t10y3mm_df['date']).dt.to_period('M').astype(str)"
   ]
  },
  {
   "cell_type": "code",
   "execution_count": 73,
   "id": "19a6456c",
   "metadata": {},
   "outputs": [],
   "source": [
    "merge3_df = pd.merge(merge2_df, indpro_df, on='date', how='left')"
   ]
  },
  {
   "cell_type": "code",
   "execution_count": 74,
   "id": "16ebc561",
   "metadata": {},
   "outputs": [],
   "source": [
    "merge4_df = pd.merge(merge3_df, t10y3mm_df, on='date', how='left')"
   ]
  },
  {
   "cell_type": "code",
   "execution_count": 35,
   "id": "e79ca013",
   "metadata": {},
   "outputs": [],
   "source": [
    "merge4_df.to_csv('/Users/yuyangdou/RSM/BAM/11Model/Data/USA/2nd/Merge4_with_INDPRO_T10Y3MM.csv', index=False)"
   ]
  },
  {
   "cell_type": "code",
   "execution_count": 75,
   "id": "3c1c726e",
   "metadata": {},
   "outputs": [
    {
     "name": "stdout",
     "output_type": "stream",
     "text": [
      "<class 'pandas.core.frame.DataFrame'>\n",
      "RangeIndex: 117558 entries, 0 to 117557\n",
      "Data columns (total 14 columns):\n",
      " #   Column   Non-Null Count   Dtype  \n",
      "---  ------   --------------   -----  \n",
      " 0   PERMNO   117558 non-null  int64  \n",
      " 1   date     117558 non-null  object \n",
      " 2   TICKER   117558 non-null  object \n",
      " 3   PRC      117558 non-null  float64\n",
      " 4   SHROUT   117558 non-null  float64\n",
      " 5   VOL      117558 non-null  float64\n",
      " 6   RET      117558 non-null  float64\n",
      " 7   SICCD    117558 non-null  float64\n",
      " 8   COMNAM   117558 non-null  object \n",
      " 9   NAICS    117558 non-null  float64\n",
      " 10  ntis     117558 non-null  float64\n",
      " 11  tbl      117558 non-null  float64\n",
      " 12  INDPRO   117558 non-null  float64\n",
      " 13  T10Y3MM  117558 non-null  float64\n",
      "dtypes: float64(10), int64(1), object(3)\n",
      "memory usage: 12.6+ MB\n",
      "None\n"
     ]
    }
   ],
   "source": [
    "print(merge4_df.info())"
   ]
  },
  {
   "cell_type": "code",
   "execution_count": 76,
   "id": "23fda761",
   "metadata": {},
   "outputs": [
    {
     "name": "stdout",
     "output_type": "stream",
     "text": [
      "PERMNO     0\n",
      "date       0\n",
      "TICKER     0\n",
      "PRC        0\n",
      "SHROUT     0\n",
      "VOL        0\n",
      "RET        0\n",
      "SICCD      0\n",
      "COMNAM     0\n",
      "NAICS      0\n",
      "ntis       0\n",
      "tbl        0\n",
      "INDPRO     0\n",
      "T10Y3MM    0\n",
      "dtype: int64\n"
     ]
    }
   ],
   "source": [
    "missing_values = merge4_df.isnull().sum()\n",
    "print(missing_values)"
   ]
  },
  {
   "cell_type": "markdown",
   "id": "ac19f27c",
   "metadata": {},
   "source": [
    "# Growth in Industrial Production (gpce) Calculation"
   ]
  },
  {
   "cell_type": "code",
   "execution_count": 77,
   "id": "27215b37",
   "metadata": {},
   "outputs": [],
   "source": [
    "if 'gpce' in merge4_df.columns:\n",
    "    merge4_df.drop(columns=['gpce'], inplace=True)\n",
    "if 'INDPRO' in merge4_df.columns:\n",
    "    merge4_df.drop(columns=['INDPRO'], inplace=True)"
   ]
  },
  {
   "cell_type": "code",
   "execution_count": 78,
   "id": "47914508",
   "metadata": {},
   "outputs": [],
   "source": [
    "indpro_df['gpce'] = (indpro_df['INDPRO'] - indpro_df['INDPRO'].shift(1)) / indpro_df['INDPRO'].shift(1)\n",
    "\n",
    "merge5_df = pd.merge(merge4_df, indpro_df[['date', 'gpce']], on='date', how='left')"
   ]
  },
  {
   "cell_type": "code",
   "execution_count": null,
   "id": "3025e56d",
   "metadata": {},
   "outputs": [],
   "source": [
    "merge5_df.to_csv('Data/Merge5_with_gpce.csv', index=False)"
   ]
  },
  {
   "cell_type": "code",
   "execution_count": 79,
   "id": "19548680",
   "metadata": {},
   "outputs": [
    {
     "name": "stdout",
     "output_type": "stream",
     "text": [
      "<class 'pandas.core.frame.DataFrame'>\n",
      "RangeIndex: 117558 entries, 0 to 117557\n",
      "Data columns (total 14 columns):\n",
      " #   Column   Non-Null Count   Dtype  \n",
      "---  ------   --------------   -----  \n",
      " 0   PERMNO   117558 non-null  int64  \n",
      " 1   date     117558 non-null  object \n",
      " 2   TICKER   117558 non-null  object \n",
      " 3   PRC      117558 non-null  float64\n",
      " 4   SHROUT   117558 non-null  float64\n",
      " 5   VOL      117558 non-null  float64\n",
      " 6   RET      117558 non-null  float64\n",
      " 7   SICCD    117558 non-null  float64\n",
      " 8   COMNAM   117558 non-null  object \n",
      " 9   NAICS    117558 non-null  float64\n",
      " 10  ntis     117558 non-null  float64\n",
      " 11  tbl      117558 non-null  float64\n",
      " 12  T10Y3MM  117558 non-null  float64\n",
      " 13  gpce     117093 non-null  float64\n",
      "dtypes: float64(10), int64(1), object(3)\n",
      "memory usage: 12.6+ MB\n",
      "None\n"
     ]
    }
   ],
   "source": [
    "print(merge5_df.info())"
   ]
  },
  {
   "cell_type": "code",
   "execution_count": 80,
   "id": "049be64c",
   "metadata": {},
   "outputs": [
    {
     "name": "stdout",
     "output_type": "stream",
     "text": [
      "PERMNO       0\n",
      "date         0\n",
      "TICKER       0\n",
      "PRC          0\n",
      "SHROUT       0\n",
      "VOL          0\n",
      "RET          0\n",
      "SICCD        0\n",
      "COMNAM       0\n",
      "NAICS        0\n",
      "ntis         0\n",
      "tbl          0\n",
      "T10Y3MM      0\n",
      "gpce       465\n",
      "dtype: int64\n"
     ]
    }
   ],
   "source": [
    "missing_values = merge5_df.isnull().sum()\n",
    "print(missing_values)"
   ]
  },
  {
   "cell_type": "code",
   "execution_count": 81,
   "id": "40ac1dd8",
   "metadata": {},
   "outputs": [],
   "source": [
    "merge5_df.fillna(0, inplace=True)"
   ]
  },
  {
   "cell_type": "code",
   "execution_count": 43,
   "id": "1226ca79",
   "metadata": {},
   "outputs": [],
   "source": [
    "merge5_df.to_csv('Data/Merge5_with_gpce.csv', index=False)"
   ]
  },
  {
   "cell_type": "code",
   "execution_count": 82,
   "id": "628df1fb",
   "metadata": {},
   "outputs": [
    {
     "name": "stdout",
     "output_type": "stream",
     "text": [
      "PERMNO     0\n",
      "date       0\n",
      "TICKER     0\n",
      "PRC        0\n",
      "SHROUT     0\n",
      "VOL        0\n",
      "RET        0\n",
      "SICCD      0\n",
      "COMNAM     0\n",
      "NAICS      0\n",
      "ntis       0\n",
      "tbl        0\n",
      "T10Y3MM    0\n",
      "gpce       0\n",
      "dtype: int64\n"
     ]
    }
   ],
   "source": [
    "missing_values = merge5_df.isnull().sum()\n",
    "print(missing_values)"
   ]
  },
  {
   "cell_type": "markdown",
   "id": "ca59f5f8",
   "metadata": {},
   "source": [
    "# Balanced Panel???"
   ]
  },
  {
   "cell_type": "code",
   "execution_count": 55,
   "id": "b2e558f6",
   "metadata": {},
   "outputs": [
    {
     "name": "stdout",
     "output_type": "stream",
     "text": [
      "Companies with less than 240 records:\n",
      "COMNAM\n",
      "N R G ENERGY INC                   239\n",
      "SALESFORCE COM INC                 236\n",
      "C B RICHARD ELLIS GROUP INC        236\n",
      "MOLSON COORS BREWING CO            236\n",
      "DOMINOS PIZZA INC                  235\n",
      "                                  ... \n",
      "BANKNORTH GROUP INC ME              15\n",
      "G E HEALTHCARE TECHNOLOGIES INC     13\n",
      "KENVUE INC                           9\n",
      "GLOBE LIFE INC                       4\n",
      "VERALTO CORP                         4\n",
      "Name: count, Length: 155, dtype: int64\n"
     ]
    }
   ],
   "source": [
    "company_counts = merge5_df['COMNAM'].value_counts()\n",
    "\n",
    "unbalanced_companies = company_counts[company_counts < 240]\n",
    "\n",
    "print(\"Companies with less than 240 records:\")\n",
    "print(unbalanced_companies)"
   ]
  },
  {
   "cell_type": "code",
   "execution_count": 56,
   "id": "838c514b",
   "metadata": {},
   "outputs": [
    {
     "name": "stdout",
     "output_type": "stream",
     "text": [
      "COMNAM\n",
      "MORGAN STANLEY DEAN WITTER & CO    480\n",
      "LENNAR CORP                        480\n",
      "MCCORMICK & CO INC                 480\n",
      "BIO RAD LABORATORIES INC           480\n",
      "WASTE MANAGEMENT INC DEL           480\n",
      "                                  ... \n",
      "BANKNORTH GROUP INC ME              15\n",
      "G E HEALTHCARE TECHNOLOGIES INC     13\n",
      "KENVUE INC                           9\n",
      "GLOBE LIFE INC                       4\n",
      "VERALTO CORP                         4\n",
      "Name: count, Length: 550, dtype: int64\n"
     ]
    }
   ],
   "source": [
    "print(company_counts)"
   ]
  },
  {
   "cell_type": "code",
   "execution_count": 57,
   "id": "5507db15",
   "metadata": {},
   "outputs": [
    {
     "name": "stdout",
     "output_type": "stream",
     "text": [
      "The number of unique company names (COMNAM) in the dataset is: 550\n"
     ]
    }
   ],
   "source": [
    "unique_comnam_count = merge5_df['COMNAM'].nunique()\n",
    "\n",
    "print(f\"The number of unique company names (COMNAM) in the dataset is: {unique_comnam_count}\")"
   ]
  },
  {
   "cell_type": "code",
   "execution_count": 58,
   "id": "60b34d2d",
   "metadata": {},
   "outputs": [
    {
     "name": "stdout",
     "output_type": "stream",
     "text": [
      "The number of companies with exactly 240 records is: 382\n",
      "Companies with exactly 240 records are:\n",
      "['SYMANTEC CORP', 'TYLER TECHNOLOGIES INC', 'HOLOGIC INC', 'BORGWARNER INC', 'CABOT OIL & GAS CORP', 'CISCO SYSTEMS INC', 'PARAMETRIC TECHNOLOGY CORP', 'ELECTRONIC ARTS INC', 'EOG RESOURCES INC', 'VENTAS INC', 'TECHNE CORP', 'ADOBE SYSTEMS INC', 'IDEX CORP', 'TRIMBLE NAVIGATION LTD', 'SCHWAB CHARLES CORP NEW', 'CARNIVAL CORP', 'BAKER HUGHES INC', 'STRYKER CORP', 'STATE STREET CORP', 'B B & T CORP', 'EQUITY RESIDENTIAL', 'ECOLAB INC', 'CITIGROUP INC', 'RAYMOND JAMES FINANCIAL INC', 'VIACOM INC', 'AUTOZONE INC', 'ALLSTATE CORP', 'BOSTON SCIENTIFIC CORP', 'ROYAL CARIBBEAN CRUISES LTD', 'O REILLY AUTOMOTIVE INC', 'JABIL CIRCUIT INC', 'ACE LTD', 'MICROCHIP TECHNOLOGY INC', 'INTUIT INC', 'TYSON FOODS INC', 'STARBUCKS CORP', 'CAMDEN PROPERTY TRUST', 'D R HORTON INC', 'STERIS CORP', 'MOHAWK INDUSTRIES INC', 'REGENERON PHARMACEUTICALS INC', 'SYNOPSYS INC', 'ROPER INDUSTRIES INC NEW', 'GILEAD SCIENCES INC', 'QUALCOMM INC', 'KIMCO REALTY CORP', 'OLD DOMINION FREIGHT LINE INC', 'BIOGEN IDEC INC', 'ZEBRA TECHNOLOGIES CORP', 'ITERIS INC', 'A E S CORP', 'I D E X X LABORATORIES INC', 'VERTEX PHARMACEUTICALS INC', 'ORACLE CORP', 'AMERICAN INTERNATIONAL GROUP INC', 'SNAP ON INC', 'ST PAUL COS INC', 'MICROSOFT CORP', 'INTEL CORP', 'UNITED DOMINION REALTY TR INC', 'COORS ADOLPH CO', 'AMERICAN EXPRESS CO', 'ALLIANT ENERGY CORP', 'SOUTHWEST AIRLINES CO', 'FEDERAL REALTY INVESTMENT TRUST', 'NORTHERN TRUST CORP', 'AFLAC INC', 'NORDSON CORP', 'NIKE INC', 'BALL CORP', 'ILLINOIS TOOL WORKS INC', 'CONAGRA INC', 'WAL MART STORES INC', 'PULTE HOMES INC', 'MICRON TECHNOLOGY INC', 'INTERPUBLIC GROUP COS INC', 'HASBRO INC', 'GRAINGER W W INC', 'EQUIFAX INC', 'JACOBS ENGINEERING GROUP INC', 'ROBERT HALF INTERNATIONAL INC', 'MEDTRONIC INC', 'P N C FINANCIAL SERVICES GRP INC', 'WESTERN DIGITAL CORP', 'PACCAR INC', 'HOME DEPOT INC', 'U S BANCORP DEL', 'UNIVERSAL HEALTH SERVICES INC', 'VERIZON COMMUNICATIONS INC', 'COOPER COMPANIES INC', 'SMITH A O CORP', 'KEYCORP NEW', 'DOMINION RESOURCES INC VA NEW', 'PUBLIC STORAGE INC', 'PROGRESSIVE CORP OH', 'NORFOLK SOUTHERN CORP', 'LIMITED BRANDS INC', 'C I G N A CORP', 'BROWN & BROWN INC', 'WEST PHARMACEUTICAL SERVICES INC', 'TORCHMARK CORP', 'C S X CORP', 'THERMO ELECTRON CORP', 'AON CORP', 'PAYCHEX INC', 'LOWES COMPANIES INC', 'ADVANCED MICRO DEVICES INC', 'PAR TECHNOLOGY CORP', 'ANALOG DEVICES INC', 'FEDEX CORP', 'S B C COMMUNICATIONS INC', 'N V R INC', 'DECKERS OUTDOOR CORP', 'AKAMAI TECHNOLOGIES INC', 'ILLUMINA INC', 'INTUITIVE SURGICAL INC', 'CHARLES RIVER LABS INTL INC', 'ON SEMICONDUCTOR CORP', 'HANSEN NATURAL CORP', 'METLIFE INC', 'EXPEDITORS INTERNATIONAL WA INC', 'EDWARDS LIFESCIENCES CORP', 'PACKAGING CORP AMERICA', 'UNITED PARCEL SERVICE INC', 'TELEDYNE TECHNOLOGIES', 'AGILENT TECHNOLOGIES INC', 'BLACKROCK INC', 'COACH INC', 'DEVON ENERGY CORP NEW', 'COSTCO WHOLESALE CORP NEW', 'S B A COMMUNICATIONS CORP', 'JUNIPER NETWORKS INC', 'F 5 NETWORKS INC', 'GOLDMAN SACHS GROUP INC', 'PRICELINE COM INC', 'NVIDIA CORP', 'EBAY INC', 'CROWN CASTLE INTERNATIONAL CORP', 'COSTAR GROUP INC', 'REPUBLIC SERVICES INC', 'STREETTRACKS SERIES TRUST', 'HENRY JACK & ASSOC INC', 'REGENCY CENTERS CORP', 'CENTENE CORP DEL', 'UNITEDHEALTH GROUP INC', 'ROSS STORES INC', 'ASSURANT INC', 'L K Q CORP', 'MOLINA HEALTHCARE INC', 'SEAGATE TECHNOLOGY', 'CHICAGO MERCANTILE EXCH HLDG INC', 'EQUINIX INC', 'WYNN RESORTS LTD', 'COMCAST CORP NEW', 'CARMAX INC', 'NETFLIX INC', 'PRUDENTIAL FINANCIAL INC', 'GARMIN LTD', 'WILLIS TOWERS WATSON PUB LTD CO', 'PRINCIPAL FINANCIAL GROUP INC', 'ANTHEM INC', 'BUNGE LTD', 'ACCENTURE LTD BERMUDA', 'ZIMMER HOLDINGS INC', 'TASER INTERNATIONAL INC', 'WILLIS GROUP HOLDINGS LTD', 'KRAFT FOODS INC', 'CERTEGY INC', 'GLOBAL PAYMENTS INC', 'ALIGN TECHNOLOGY INC', 'COGNIZANT TECHNOLOGY SOLS CORP', 'SEMPRA ENERGY', 'AMERICAN TOWER CORP', 'MCKESSON H B O C INC', 'SCHEIN HENRY INC', 'S C P POOL CORP', 'DAVITA INC', 'EVEREST RE GROUP LTD', 'ARCH CAPITAL GROUP LTD NEW', 'WESTAMERICA BANCORPORATION', 'FREEPORT MCMORAN COPPER & GOLD', 'RESMED INC', 'WABTEC CORP', 'DARDEN RESTAURANTS INC', 'AMERISOURCEBERGEN CORP', 'DOLLAR TREE STORES INC', 'CAPITAL ONE FINANCIAL CORP', 'BEST BUY COMPANY INC', 'REALTY INCOME CORP', 'ESSEX PROPERTY TRUST INC', 'AVALONBAY COMMUNITIES INC', 'COPART INC', 'TRACTOR SUPPLY CO NEW', 'MARTIN MARIETTA MATERIALS INC', 'ALBEMARLE CORP', 'MID AMERICA APT COMMUNITIES INC', 'SIMON PROPERTY GROUP INC NEW', 'EASTMAN CHEMICAL CO', 'INCYTE CORP', 'TERADYNE INC', 'NETWORK APPLIANCE INC', 'LAUDER ESTEE COS INC', 'WATERS CORP', 'HARTFORD FINANCIAL SVCS GRP INC', 'MARRIOTT INTERNATIONAL INC NEW', 'QUANTA SERVICES INC', 'VERISIGN INC', 'UNITED RENTALS INC', 'AUTODESK INC', 'METTLER TOLEDO INTERNATIONAL INC', 'A M B PROPERTY CORP', 'CH ROBINSON WORLDWIDE INC', 'YUM BRANDS INC', 'VALERO ENERGY CORP NEW', 'AMETEK INC NEW', 'POLO RALPH LAUREN CORP', 'BOSTON PROPERTIES INC', 'R F MICRO DEVICES INC', 'AMAZON COM INC', 'AMPHENOL CORP NEW', 'ALEXANDRIA REAL EST EQUITIES INC', 'TAKE TWO INTERACTIVE SOFTWR INC', 'CORE MOLDING TECHNOLOGIES INC', 'ROCKWELL AUTOMATION INC', 'QUEST DIAGNOSTICS INC', 'STEEL DYNAMICS INC', 'ANSYS INC', 'FACTSET RESEARCH SYSTEMS INC', 'IRON MOUNTAIN INC', 'SYSCO CORP', 'BANK OF AMERICA CORP', 'LILLY ELI & CO', 'EXELON CORP', '3M CO', 'P P L CORP', 'P P G INDUSTRIES INC', 'CORNING INC', 'JOHNSON & JOHNSON', 'EMERSON ELECTRIC CO', 'PFIZER INC', 'CENTERPOINT ENERGY INC', 'INTERNATIONAL PAPER CO', 'ONEOK INC NEW', 'CARDINAL HEALTH INC', 'NEWMONT MINING CORP', 'MEADWESTVACO CORP', 'LOCKHEED MARTIN CORP', 'ALPHA METALLURGICAL RES INC', 'ABBOTT LABORATORIES', 'BOEING CO', 'WALGREEN CO', 'MERCK & CO INC', 'MOTOROLA INC', 'FIRSTENERGY CORP', 'C M S ENERGY CORP', 'AMEREN CORP', 'NORTHROP GRUMMAN CORP', 'ALCOA INC', 'EQUITABLE RESOURCES INC', 'F P L GROUP INC', 'AMERICAN ELECTRIC POWER CO INC', 'WESTAR ENERGY INC', 'ENTERGY CORP NEW', 'X C E L ENERGY INC', 'HALLIBURTON CO', 'PUBLIC SERVICE ENTERPRISE GP INC', 'CINTAS CORP', 'TEXTRON INC', 'HONEYWELL INTERNATIONAL INC', 'WISCONSIN ENERGY CORP', 'ALTRIA GROUP INC', 'CHURCH & DWIGHT INC', 'BRISTOL MYERS SQUIBB CO', 'DEERE & CO', 'F M C CORP', 'EDISON INTERNATIONAL', 'EATON CORP', 'EXXON MOBIL CORP', 'GENERAL DYNAMICS CORP', 'GENERAL ELECTRIC CO', 'VULCAN MATERIALS CO', 'MARATHON OIL CORP', 'LABORATORY CORP AMERICA HLDGS', 'INGERSOLL RAND CO LTD', 'APPLIED MATERIALS INC', 'APPLE COMPUTER INC', 'INTERNATIONAL BUSINESS MACHS COR', 'CHEVRONTEXACO CORP', 'I T T INDUSTRIES INC IND', 'SCHLUMBERGER LTD', 'AMGEN INC', 'P G & E CORP', 'CONOCOPHILLIPS', 'TEXAS INSTRUMENTS INC', 'D T E ENERGY CO', 'COLGATE PALMOLIVE CO', 'FASTENAL CO', 'CATERPILLAR INC', 'SOUTHERN CO', 'PROCTER & GAMBLE CO', 'UNITED TECHNOLOGIES CORP', 'KIMBERLY CLARK CORP', 'BERKLEY W R CORP', 'MCGRAW HILL COS INC', 'GENERAL MILLS INC', 'C V S CORP', 'ARCHER DANIELS MIDLAND CO', 'KROGER CO', 'HERSHEY FOODS CORP', 'BROWN SHOE CO INC NEW', 'COCA COLA CO', 'CADENCE DESIGN SYSTEMS INC', 'CONSOLIDATED EDISON INC', 'FAIR ISAAC CORP', 'COMERICA INC', 'CINCINNATI FINANCIAL CORP', 'CAMPBELL SOUP CO', 'NORTHEAST UTILITIES', 'STANLEY WORKS', 'ALLEGHENY TECHNOLOGIES', 'HUNTINGTON BANCSHARES INC', 'HUNT J B TRANSPORT SERVICES INC', 'SMUCKER J M CO', 'T ROWE PRICE GROUP INC', 'PERKINELMER INC', 'PARKER HANNIFIN CORP', 'CUMMINS INC', 'T J X COMPANIES INC NEW', 'INTERNATIONAL FLAVORS & FRAG INC', 'WEYERHAEUSER CO', 'BECTON DICKINSON & CO', 'APACHE CORP', 'NISOURCE INC', 'WELLS FARGO & CO NEW', 'WILLIAMS COS', 'MCDONALDS CORP', 'TELEFLEX INC', 'FRANKLIN RESOURCES INC', 'AVERY DENNISON CORP', 'LEE ENTERPRISES INC', 'DANAHER CORP', 'BANK NEW YORK INC', 'TARGET CORP', 'UNION PACIFIC CORP', 'HUMANA INC', 'MOODYS CORP', 'LAM RESH CORP', 'J P MORGAN CHASE & CO', 'K L A TENCOR CORP', 'HOST MARRIOTT CORP NEW', 'GENUINE PARTS CO', 'CLOROX CO', 'SKYWORKS SOLUTIONS INC', 'MARSH & MCLENNAN COS INC', 'TYCO INTERNATIONAL LTD NEW', 'AUTOMATIC DATA PROCESSING INC', 'GALLAGHER ARTHUR J & CO', 'PEPSICO INC', 'HORMEL FOODS CORP', 'KELLOGG CO', 'HUBBELL INC', 'MASCO CORP', 'OMNICOM GROUP INC', 'AMERADA HESS CORP', 'FIFTH THIRD BANCORP', 'AIR PRODUCTS & CHEMICALS INC', 'PINNACLE WEST CAPITAL CORP', 'DUKE ENERGY CORP', 'NUCOR CORP', 'HEWLETT PACKARD CO', 'BAXTER INTERNATIONAL INC', 'OCCIDENTAL PETROLEUM CORP', 'DOVER CORP', 'SHERWIN WILLIAMS CO', 'HARRIS CORP', 'ROLLINS INC', 'REGIONS FINANCIAL CORP', 'FORD MOTOR CO DEL', 'ATMOS ENERGY CORP', 'M & T BANK CORP', 'DISNEY WALT CO', 'STEAK N SHAKE CO']\n"
     ]
    }
   ],
   "source": [
    "company_counts = merge5_df['COMNAM'].value_counts()\n",
    "\n",
    "complete_companies = company_counts[company_counts == 240]\n",
    "print(f\"The number of companies with exactly 240 records is: {complete_companies.shape[0]}\")\n",
    "\n",
    "print(\"Companies with exactly 240 records are:\")\n",
    "print(complete_companies.index.tolist())"
   ]
  },
  {
   "cell_type": "markdown",
   "id": "4d6aadde",
   "metadata": {},
   "source": [
    "# Momentum - Monthly"
   ]
  },
  {
   "cell_type": "code",
   "execution_count": 83,
   "id": "4b36a6c0",
   "metadata": {},
   "outputs": [],
   "source": [
    "merge5_df = merge5_df.sort_values(by=['TICKER', 'date'])\n",
    "merge5_df['12m_momentum'] = merge5_df.groupby('TICKER')['RET'].rolling(12).apply(lambda x: (x + 1).prod() - 1).reset_index(drop=True)"
   ]
  },
  {
   "cell_type": "code",
   "execution_count": 84,
   "id": "69152631",
   "metadata": {},
   "outputs": [],
   "source": [
    "industry_groups = merge5_df.groupby(['NAICS', 'date'])\n",
    "merge5_df['industry_momentum'] = industry_groups['12m_momentum'].transform('mean')"
   ]
  },
  {
   "cell_type": "code",
   "execution_count": 85,
   "id": "caf330be",
   "metadata": {},
   "outputs": [],
   "source": [
    "merge5_df['1m_reversal'] = merge5_df.groupby('TICKER')['RET'].shift(1)"
   ]
  },
  {
   "cell_type": "code",
   "execution_count": 86,
   "id": "b812b8fb",
   "metadata": {},
   "outputs": [
    {
     "name": "stdout",
     "output_type": "stream",
     "text": [
      "PERMNO                  0\n",
      "date                    0\n",
      "TICKER                  0\n",
      "PRC                     0\n",
      "SHROUT                  0\n",
      "VOL                     0\n",
      "RET                     0\n",
      "SICCD                   0\n",
      "COMNAM                  0\n",
      "NAICS                   0\n",
      "ntis                    0\n",
      "tbl                     0\n",
      "T10Y3MM                 0\n",
      "gpce                    0\n",
      "12m_momentum         6882\n",
      "industry_momentum    1722\n",
      "1m_reversal           629\n",
      "dtype: int64\n"
     ]
    }
   ],
   "source": [
    "missing_values_after_fill = merge5_df.isnull().sum()\n",
    "print(missing_values_after_fill)"
   ]
  },
  {
   "cell_type": "code",
   "execution_count": 87,
   "id": "40616502",
   "metadata": {},
   "outputs": [],
   "source": [
    "def fill_missing_with_median(df, columns, groupby_col):\n",
    "    for col in columns:\n",
    "        df[col] = df.groupby(groupby_col)[col].transform(lambda x: x.fillna(x.median()))\n",
    "    return df\n",
    "\n",
    "columns_to_fill = ['12m_momentum', 'industry_momentum', '1m_reversal']\n",
    "merge5_df = fill_missing_with_median(merge5_df, columns_to_fill, 'TICKER')"
   ]
  },
  {
   "cell_type": "code",
   "execution_count": 88,
   "id": "8ad88f4c",
   "metadata": {},
   "outputs": [
    {
     "name": "stdout",
     "output_type": "stream",
     "text": [
      "PERMNO               0\n",
      "date                 0\n",
      "TICKER               0\n",
      "PRC                  0\n",
      "SHROUT               0\n",
      "VOL                  0\n",
      "RET                  0\n",
      "SICCD                0\n",
      "COMNAM               0\n",
      "NAICS                0\n",
      "ntis                 0\n",
      "tbl                  0\n",
      "T10Y3MM              0\n",
      "gpce                 0\n",
      "12m_momentum         0\n",
      "industry_momentum    0\n",
      "1m_reversal          1\n",
      "dtype: int64\n"
     ]
    }
   ],
   "source": [
    "missing_values_after_fill = merge5_df.isnull().sum()\n",
    "print(missing_values_after_fill)"
   ]
  },
  {
   "cell_type": "code",
   "execution_count": 90,
   "id": "a095ebfc",
   "metadata": {},
   "outputs": [
    {
     "name": "stdout",
     "output_type": "stream",
     "text": [
      "PERMNO               0\n",
      "date                 0\n",
      "TICKER               0\n",
      "PRC                  0\n",
      "SHROUT               0\n",
      "VOL                  0\n",
      "RET                  0\n",
      "SICCD                0\n",
      "COMNAM               0\n",
      "NAICS                0\n",
      "ntis                 0\n",
      "tbl                  0\n",
      "T10Y3MM              0\n",
      "gpce                 0\n",
      "12m_momentum         0\n",
      "industry_momentum    0\n",
      "1m_reversal          0\n",
      "dtype: int64\n"
     ]
    }
   ],
   "source": [
    "merge5_df = merge5_df.fillna(0)\n",
    "\n",
    "missing_values_after_fill = merge5_df.isnull().sum()\n",
    "print(missing_values_after_fill)"
   ]
  },
  {
   "cell_type": "markdown",
   "id": "0404b928",
   "metadata": {},
   "source": [
    "# Market Value & Excess Return(target variable)"
   ]
  },
  {
   "cell_type": "code",
   "execution_count": 91,
   "id": "c21f6fef",
   "metadata": {},
   "outputs": [],
   "source": [
    "merge5_df['EXRET'] = merge5_df['RET'] - merge5_df['tbl']\n",
    "\n",
    "merge5_df['MV'] = merge5_df['PRC'] * merge5_df['SHROUT']"
   ]
  },
  {
   "cell_type": "code",
   "execution_count": 92,
   "id": "6819ddd8",
   "metadata": {},
   "outputs": [
    {
     "name": "stdout",
     "output_type": "stream",
     "text": [
      "       PERMNO     date TICKER    PRC    SHROUT       VOL       RET   SICCD  \\\n",
      "96096   87432  2004-01      A  36.86  480041.0  936159.0  0.260602  3825.0   \n",
      "96097   87432  2004-02      A  34.19  480041.0  624089.0 -0.072436  3825.0   \n",
      "96098   87432  2004-03      A  31.63  480754.0  761789.0 -0.074876  3825.0   \n",
      "96099   87432  2004-04      A  27.01  480754.0  502169.0 -0.146064  3825.0   \n",
      "96100   87432  2004-05      A  25.70  481000.0  788345.0 -0.048501  3825.0   \n",
      "\n",
      "                         COMNAM     NAICS      ntis     tbl  T10Y3MM  \\\n",
      "96096  AGILENT TECHNOLOGIES INC  334515.0  0.006887  0.0088     3.25   \n",
      "96097  AGILENT TECHNOLOGIES INC  334515.0  0.009361  0.0093     3.14   \n",
      "96098  AGILENT TECHNOLOGIES INC  334515.0  0.012282  0.0094     2.88   \n",
      "96099  AGILENT TECHNOLOGIES INC  334515.0  0.013766  0.0094     3.39   \n",
      "96100  AGILENT TECHNOLOGIES INC  334515.0  0.016330  0.0102     3.68   \n",
      "\n",
      "           gpce  12m_momentum  industry_momentum  1m_reversal     EXRET  \\\n",
      "96096  0.000000     -0.555556          -0.019481     0.011600  0.251802   \n",
      "96097  0.006069     -0.510585          -0.097145     0.260602 -0.081736   \n",
      "96098 -0.003820     -0.533582          -0.087613    -0.072436 -0.084276   \n",
      "96099  0.004075     -0.063328           0.023327    -0.074876 -0.155464   \n",
      "96100  0.007257      0.205370           0.121305    -0.146064 -0.058701   \n",
      "\n",
      "                MV  \n",
      "96096  17694311.26  \n",
      "96097  16412601.79  \n",
      "96098  15206249.02  \n",
      "96099  12985165.54  \n",
      "96100  12361700.00  \n"
     ]
    }
   ],
   "source": [
    "merge5_df.to_csv('/Users/yuyangdou/RSM/BAM/11Model/Data/USA/2nd/5test_with_EXRET_MV.csv', index=False)\n",
    "\n",
    "print(merge5_df.head())"
   ]
  },
  {
   "cell_type": "markdown",
   "id": "2f8f4e2c",
   "metadata": {},
   "source": [
    "# Liquidity - Daily"
   ]
  },
  {
   "cell_type": "code",
   "execution_count": 93,
   "id": "ed5fc6cd",
   "metadata": {},
   "outputs": [
    {
     "name": "stderr",
     "output_type": "stream",
     "text": [
      "/var/folders/43/g17v034j3x7dj44_fyl7pl_m0000gn/T/ipykernel_35173/3256828450.py:2: DtypeWarning: Columns (8) have mixed types. Specify dtype option on import or set low_memory=False.\n",
      "  daily_df = pd.read_csv('/Users/yuyangdou/RSM/BAM/11Model/Data/USA/Daily - Liquidity.csv')\n"
     ]
    }
   ],
   "source": [
    "daily_df = pd.read_csv('Data/Daily - Liquidity.csv')\n",
    "daily_df['date'] = pd.to_datetime(daily_df['date'])"
   ]
  },
  {
   "cell_type": "code",
   "execution_count": 94,
   "id": "57ea89d5",
   "metadata": {},
   "outputs": [],
   "source": [
    "daily_df['DV'] = daily_df['VOL'] * daily_df['PRC']\n",
    "daily_df['BAS'] = daily_df['ASK'] - daily_df['BID']\n",
    "daily_df['year_month'] = daily_df['date'].dt.to_period('M')\n",
    "\n",
    "monthly_dv = daily_df.groupby(['TICKER', 'year_month'])['DV'].sum().reset_index()\n",
    "monthly_bas = daily_df.groupby(['TICKER', 'year_month'])['BAS'].mean().reset_index()\n",
    "monthly_df = pd.merge(monthly_dv, monthly_bas, on=['TICKER', 'year_month'])"
   ]
  },
  {
   "cell_type": "code",
   "execution_count": 95,
   "id": "b515b727",
   "metadata": {},
   "outputs": [
    {
     "name": "stdout",
     "output_type": "stream",
     "text": [
      "  TICKER year_month            DV       BAS\n",
      "0      A    2004-01  3.178481e+09  0.024000\n",
      "1      A    2004-02  2.232170e+09  0.038421\n",
      "2      A    2004-03  2.389114e+09  0.034783\n",
      "3      A    2004-04  1.513678e+09  0.042857\n",
      "4      A    2004-05  2.018090e+09  0.026000\n"
     ]
    }
   ],
   "source": [
    "monthly_df.to_csv('Data/Monthly - Liquidity1.csv', index=False)\n",
    "print(monthly_df.head())"
   ]
  },
  {
   "cell_type": "code",
   "execution_count": 96,
   "id": "0021160b",
   "metadata": {},
   "outputs": [
    {
     "name": "stdout",
     "output_type": "stream",
     "text": [
      "TICKER         0\n",
      "year_month     0\n",
      "DV             0\n",
      "BAS           13\n",
      "dtype: int64\n"
     ]
    }
   ],
   "source": [
    "missing_values = monthly_df.isnull().sum()\n",
    "print(missing_values)"
   ]
  },
  {
   "cell_type": "code",
   "execution_count": 98,
   "id": "f815b861",
   "metadata": {},
   "outputs": [],
   "source": [
    "median_bas = monthly_df.groupby('TICKER')['BAS'].transform('median')\n",
    "monthly_df['BAS'].fillna(median_bas, inplace=True)"
   ]
  },
  {
   "cell_type": "code",
   "execution_count": 99,
   "id": "a080e67b",
   "metadata": {},
   "outputs": [
    {
     "name": "stdout",
     "output_type": "stream",
     "text": [
      "TICKER        0\n",
      "year_month    0\n",
      "DV            0\n",
      "BAS           0\n",
      "dtype: int64\n"
     ]
    }
   ],
   "source": [
    "missing_values_after = monthly_df.isnull().sum()\n",
    "print(missing_values_after)"
   ]
  },
  {
   "cell_type": "markdown",
   "id": "57252620",
   "metadata": {},
   "source": [
    "# Total Return Volatility - Standard Deviation"
   ]
  },
  {
   "cell_type": "code",
   "execution_count": 100,
   "id": "77f7bc9f",
   "metadata": {},
   "outputs": [],
   "source": [
    "daily_df = daily_df[pd.to_numeric(daily_df['RET'], errors='coerce').notnull()]\n",
    "daily_df['RET'] = daily_df['RET'].astype(float)"
   ]
  },
  {
   "cell_type": "code",
   "execution_count": 101,
   "id": "a86b8771",
   "metadata": {},
   "outputs": [],
   "source": [
    "monthly_volatility = daily_df.groupby(['TICKER', 'year_month'])['RET'].std().reset_index()\n",
    "monthly_volatility.rename(columns={'RET': 'TRV'}, inplace=True)\n"
   ]
  },
  {
   "cell_type": "code",
   "execution_count": 102,
   "id": "d3452ca3",
   "metadata": {},
   "outputs": [],
   "source": [
    "monthly_volatility['year'] = monthly_volatility['year_month'].dt.year\n",
    "annual_volatility = monthly_volatility.groupby(['TICKER', 'year'])['TRV'].mean().reset_index()\n",
    "annual_volatility.rename(columns={'TRV': 'annual_TRV'}, inplace=True)"
   ]
  },
  {
   "cell_type": "code",
   "execution_count": 103,
   "id": "45c11832",
   "metadata": {},
   "outputs": [
    {
     "name": "stdout",
     "output_type": "stream",
     "text": [
      "TICKER        0\n",
      "year          0\n",
      "annual_TRV    4\n",
      "dtype: int64\n"
     ]
    }
   ],
   "source": [
    "missing_values_after = annual_volatility.isnull().sum()\n",
    "print(missing_values_after)"
   ]
  },
  {
   "cell_type": "code",
   "execution_count": 104,
   "id": "1b15feca",
   "metadata": {},
   "outputs": [],
   "source": [
    "annual_volatility['annual_TRV'].fillna(0, inplace=True)"
   ]
  },
  {
   "cell_type": "code",
   "execution_count": 105,
   "id": "9766705a",
   "metadata": {},
   "outputs": [
    {
     "name": "stdout",
     "output_type": "stream",
     "text": [
      "TICKER        0\n",
      "year          0\n",
      "annual_TRV    0\n",
      "dtype: int64\n"
     ]
    }
   ],
   "source": [
    "missing_values_after = annual_volatility.isnull().sum()\n",
    "print(missing_values_after)"
   ]
  },
  {
   "cell_type": "code",
   "execution_count": 106,
   "id": "81a3278d",
   "metadata": {},
   "outputs": [
    {
     "name": "stdout",
     "output_type": "stream",
     "text": [
      "  TICKER  year  annual_TRV\n",
      "0      A  2004    0.023131\n",
      "1      A  2005    0.015626\n",
      "2      A  2006    0.017079\n",
      "3      A  2007    0.015205\n",
      "4      A  2008    0.026656\n"
     ]
    }
   ],
   "source": [
    "annual_volatility = annual_volatility[['TICKER', 'year', 'annual_TRV']]\n",
    "\n",
    "annual_volatility.to_csv('Data/annual_volatility.csv', index=False)\n",
    "print(annual_volatility.head())"
   ]
  },
  {
   "cell_type": "markdown",
   "id": "3c8ac05e",
   "metadata": {},
   "source": [
    "# Regression - Idiosyncratic Volatility & Market Beta"
   ]
  },
  {
   "cell_type": "code",
   "execution_count": 107,
   "id": "c417edf6",
   "metadata": {},
   "outputs": [
    {
     "name": "stderr",
     "output_type": "stream",
     "text": [
      "/var/folders/43/g17v034j3x7dj44_fyl7pl_m0000gn/T/ipykernel_35173/2042031660.py:2: DtypeWarning: Columns (8) have mixed types. Specify dtype option on import or set low_memory=False.\n",
      "  daily_df2 = pd.read_csv('/Users/yuyangdou/RSM/BAM/11Model/Data/USA/Daily - Liquidity.csv')\n"
     ]
    }
   ],
   "source": [
    "daily_df2 = pd.read_csv('Data/Daily - Liquidity.csv')\n",
    "\n",
    "daily_df2['date'] = pd.to_datetime(daily_df2['date'])\n",
    "daily_df2['year'] = daily_df2['date'].dt.year\n",
    "daily_df2['year_month'] = daily_df2['date'].dt.to_period('M')\n",
    "\n",
    "daily_df2['RET'] = pd.to_numeric(daily_df2['RET'], errors='coerce')\n",
    "daily_df2['sprtrn'] = pd.to_numeric(daily_df2['sprtrn'], errors='coerce')"
   ]
  },
  {
   "cell_type": "code",
   "execution_count": 108,
   "id": "8983ace9",
   "metadata": {},
   "outputs": [],
   "source": [
    "daily_df2['IV'] = np.nan\n",
    "daily_df2['MB'] = np.nan\n",
    "\n",
    "companies = daily_df2['TICKER'].unique()\n",
    "for company in companies:\n",
    "    company_data = daily_df2[daily_df2['TICKER'] == company]\n",
    "    \n",
    "    \n",
    "    company_data = company_data.dropna(subset=['RET', 'sprtrn'])\n",
    "    \n",
    "    if len(company_data) > 1: \n",
    "        X = sm.add_constant(company_data['sprtrn'])\n",
    "        y = company_data['RET']\n",
    "        \n",
    "        model = sm.OLS(y, X).fit()\n",
    "        \n",
    "        daily_df2.loc[daily_df2['TICKER'] == company, 'MB'] = model.params['sprtrn']\n",
    "        daily_df2.loc[daily_df2['TICKER'] == company, 'IV'] = model.resid.std()\n",
    "\n",
    "annual_iv_mb = daily_df2.groupby(['TICKER', 'year']).agg({\n",
    "    'IV': 'mean',\n",
    "    'MB': 'mean'\n",
    "}).reset_index()"
   ]
  },
  {
   "cell_type": "code",
   "execution_count": 109,
   "id": "1ed6759e",
   "metadata": {},
   "outputs": [
    {
     "name": "stdout",
     "output_type": "stream",
     "text": [
      "TICKER    0\n",
      "year      0\n",
      "IV        1\n",
      "MB        1\n",
      "dtype: int64\n"
     ]
    }
   ],
   "source": [
    "missing_values_after = annual_iv_mb.isnull().sum()\n",
    "print(missing_values_after)"
   ]
  },
  {
   "cell_type": "code",
   "execution_count": 110,
   "id": "2c401b16",
   "metadata": {},
   "outputs": [],
   "source": [
    "median_iv_mb = annual_iv_mb.groupby('TICKER')[['IV', 'MB']].median().reset_index()\n",
    "\n",
    "def fill_missing_values(row, median_df):\n",
    "    if pd.isnull(row['IV']):\n",
    "        row['IV'] = median_df.loc[median_df['TICKER'] == row['TICKER'], 'IV'].values[0]\n",
    "    if pd.isnull(row['MB']):\n",
    "        row['MB'] = median_df.loc[median_df['TICKER'] == row['TICKER'], 'MB'].values[0]\n",
    "    return row\n",
    "\n",
    "annual_iv_mb = annual_iv_mb.apply(fill_missing_values, axis=1, median_df=median_iv_mb)"
   ]
  },
  {
   "cell_type": "code",
   "execution_count": 111,
   "id": "e0f5b673",
   "metadata": {},
   "outputs": [
    {
     "name": "stdout",
     "output_type": "stream",
     "text": [
      "TICKER    0\n",
      "year      0\n",
      "IV        1\n",
      "MB        1\n",
      "dtype: int64\n"
     ]
    }
   ],
   "source": [
    "missing_values_after = annual_iv_mb.isnull().sum()\n",
    "print(missing_values_after)"
   ]
  },
  {
   "cell_type": "code",
   "execution_count": 113,
   "id": "97fe42f8",
   "metadata": {},
   "outputs": [],
   "source": [
    "annual_iv_mb['IV'].fillna(0, inplace=True)"
   ]
  },
  {
   "cell_type": "code",
   "execution_count": 114,
   "id": "d384566a",
   "metadata": {},
   "outputs": [],
   "source": [
    "annual_iv_mb['MB'].fillna(0, inplace=True)"
   ]
  },
  {
   "cell_type": "code",
   "execution_count": 115,
   "id": "66a1f89b",
   "metadata": {},
   "outputs": [
    {
     "name": "stdout",
     "output_type": "stream",
     "text": [
      "TICKER    0\n",
      "year      0\n",
      "IV        0\n",
      "MB        0\n",
      "dtype: int64\n"
     ]
    }
   ],
   "source": [
    "missing_values_after = annual_iv_mb.isnull().sum()\n",
    "print(missing_values_after)"
   ]
  },
  {
   "cell_type": "code",
   "execution_count": 116,
   "id": "bc94e3a3",
   "metadata": {},
   "outputs": [],
   "source": [
    "annual_iv_mb.to_csv('Data/annual_iv_mb.csv', index=False)"
   ]
  },
  {
   "cell_type": "markdown",
   "id": "295fdbb3",
   "metadata": {},
   "source": [
    "# Final Merge - excluding Financial Ratio"
   ]
  },
  {
   "cell_type": "code",
   "execution_count": 117,
   "id": "5f5e2cd9",
   "metadata": {},
   "outputs": [],
   "source": [
    "final_df = pd.read_csv('Data/5test_with_EXRET_MV.csv')"
   ]
  },
  {
   "cell_type": "code",
   "execution_count": 118,
   "id": "644fa16b",
   "metadata": {},
   "outputs": [],
   "source": [
    "monthly_liquidity = pd.read_csv('Data/Monthly - Liquidity1.csv')\n",
    "monthly_liquidity.rename(columns={'year_month': 'date'}, inplace=True)\n",
    "\n",
    "annual_volatility = pd.read_csv('Data/annual_volatility.csv')\n",
    "\n",
    "annual_iv_mb = pd.read_csv('Data/annual_iv_mb.csv')"
   ]
  },
  {
   "cell_type": "code",
   "execution_count": 119,
   "id": "811bb022",
   "metadata": {},
   "outputs": [],
   "source": [
    "final_df['date'] = pd.to_datetime(final_df['date']).dt.to_period('M').astype(str)\n",
    "monthly_liquidity['date'] = pd.to_datetime(monthly_liquidity['date']).dt.to_period('M').astype(str)\n",
    "annual_volatility['year'] = annual_volatility['year'].astype(str)\n",
    "annual_iv_mb['year'] = annual_iv_mb['year'].astype(str)\n"
   ]
  },
  {
   "cell_type": "code",
   "execution_count": 120,
   "id": "76f6878e",
   "metadata": {},
   "outputs": [],
   "source": [
    "final_df['year'] = final_df['date'].str[:4]"
   ]
  },
  {
   "cell_type": "code",
   "execution_count": 121,
   "id": "f905aebe",
   "metadata": {},
   "outputs": [],
   "source": [
    "final_df = pd.merge(final_df, monthly_liquidity[['TICKER', 'date', 'DV', 'BAS']], on=['TICKER', 'date'], how='left')\n",
    "final_df = pd.merge(final_df, annual_volatility[['TICKER', 'year', 'annual_TRV']], on=['TICKER', 'year'], how='left')\n",
    "final_df = pd.merge(final_df, annual_iv_mb[['TICKER', 'year', 'IV', 'MB']], on=['TICKER', 'year'], how='left')"
   ]
  },
  {
   "cell_type": "code",
   "execution_count": 122,
   "id": "e0c7b4e1",
   "metadata": {},
   "outputs": [
    {
     "name": "stdout",
     "output_type": "stream",
     "text": [
      "<class 'pandas.core.frame.DataFrame'>\n",
      "RangeIndex: 117558 entries, 0 to 117557\n",
      "Data columns (total 25 columns):\n",
      " #   Column             Non-Null Count   Dtype  \n",
      "---  ------             --------------   -----  \n",
      " 0   PERMNO             117558 non-null  int64  \n",
      " 1   date               117558 non-null  object \n",
      " 2   TICKER             117558 non-null  object \n",
      " 3   PRC                117558 non-null  float64\n",
      " 4   SHROUT             117558 non-null  float64\n",
      " 5   VOL                117558 non-null  float64\n",
      " 6   RET                117558 non-null  float64\n",
      " 7   SICCD              117558 non-null  float64\n",
      " 8   COMNAM             117558 non-null  object \n",
      " 9   NAICS              117558 non-null  float64\n",
      " 10  ntis               117558 non-null  float64\n",
      " 11  tbl                117558 non-null  float64\n",
      " 12  T10Y3MM            117558 non-null  float64\n",
      " 13  gpce               117558 non-null  float64\n",
      " 14  12m_momentum       117558 non-null  float64\n",
      " 15  industry_momentum  117558 non-null  float64\n",
      " 16  1m_reversal        117558 non-null  float64\n",
      " 17  EXRET              117558 non-null  float64\n",
      " 18  MV                 117558 non-null  float64\n",
      " 19  year               117558 non-null  object \n",
      " 20  DV                 117332 non-null  float64\n",
      " 21  BAS                117319 non-null  float64\n",
      " 22  annual_TRV         117503 non-null  float64\n",
      " 23  IV                 117504 non-null  float64\n",
      " 24  MB                 117504 non-null  float64\n",
      "dtypes: float64(20), int64(1), object(4)\n",
      "memory usage: 22.4+ MB\n",
      "None\n",
      "   PERMNO     date TICKER    PRC    SHROUT       VOL       RET   SICCD  \\\n",
      "0   87432  2004-01      A  36.86  480041.0  936159.0  0.260602  3825.0   \n",
      "1   87432  2004-02      A  34.19  480041.0  624089.0 -0.072436  3825.0   \n",
      "2   87432  2004-03      A  31.63  480754.0  761789.0 -0.074876  3825.0   \n",
      "3   87432  2004-04      A  27.01  480754.0  502169.0 -0.146064  3825.0   \n",
      "4   87432  2004-05      A  25.70  481000.0  788345.0 -0.048501  3825.0   \n",
      "\n",
      "                     COMNAM     NAICS  ...  industry_momentum  1m_reversal  \\\n",
      "0  AGILENT TECHNOLOGIES INC  334515.0  ...          -0.019481     0.011600   \n",
      "1  AGILENT TECHNOLOGIES INC  334515.0  ...          -0.097145     0.260602   \n",
      "2  AGILENT TECHNOLOGIES INC  334515.0  ...          -0.087613    -0.072436   \n",
      "3  AGILENT TECHNOLOGIES INC  334515.0  ...           0.023327    -0.074876   \n",
      "4  AGILENT TECHNOLOGIES INC  334515.0  ...           0.121305    -0.146064   \n",
      "\n",
      "      EXRET           MV  year            DV       BAS  annual_TRV        IV  \\\n",
      "0  0.251802  17694311.26  2004  3.178481e+09  0.024000    0.023131  0.013948   \n",
      "1 -0.081736  16412601.79  2004  2.232170e+09  0.038421    0.023131  0.013948   \n",
      "2 -0.084276  15206249.02  2004  2.389114e+09  0.034783    0.023131  0.013948   \n",
      "3 -0.155464  12985165.54  2004  1.513678e+09  0.042857    0.023131  0.013948   \n",
      "4 -0.058701  12361700.00  2004  2.018090e+09  0.026000    0.023131  0.013948   \n",
      "\n",
      "         MB  \n",
      "0  1.140713  \n",
      "1  1.140713  \n",
      "2  1.140713  \n",
      "3  1.140713  \n",
      "4  1.140713  \n",
      "\n",
      "[5 rows x 25 columns]\n"
     ]
    }
   ],
   "source": [
    "print(final_df.info())\n",
    "print(final_df.head())"
   ]
  },
  {
   "cell_type": "code",
   "execution_count": 123,
   "id": "e7c188d5",
   "metadata": {},
   "outputs": [
    {
     "name": "stdout",
     "output_type": "stream",
     "text": [
      "PERMNO                 0\n",
      "date                   0\n",
      "TICKER                 0\n",
      "PRC                    0\n",
      "SHROUT                 0\n",
      "VOL                    0\n",
      "RET                    0\n",
      "SICCD                  0\n",
      "COMNAM                 0\n",
      "NAICS                  0\n",
      "ntis                   0\n",
      "tbl                    0\n",
      "T10Y3MM                0\n",
      "gpce                   0\n",
      "12m_momentum           0\n",
      "industry_momentum      0\n",
      "1m_reversal            0\n",
      "EXRET                  0\n",
      "MV                     0\n",
      "year                   0\n",
      "DV                   226\n",
      "BAS                  239\n",
      "annual_TRV            55\n",
      "IV                    54\n",
      "MB                    54\n",
      "dtype: int64\n"
     ]
    }
   ],
   "source": [
    "missing_values_after = final_df.isnull().sum()\n",
    "print(missing_values_after)"
   ]
  },
  {
   "cell_type": "code",
   "execution_count": 124,
   "id": "5d6458ef",
   "metadata": {},
   "outputs": [],
   "source": [
    "final_df['year'] = final_df['year'].astype(int)"
   ]
  },
  {
   "cell_type": "code",
   "execution_count": 125,
   "id": "3d3d6276",
   "metadata": {},
   "outputs": [],
   "source": [
    "def fill_missing_with_median(df, columns, groupby_col):\n",
    "    for col in columns:\n",
    "        df[col] = df.groupby(groupby_col)[col].transform(lambda x: x.fillna(x.median()))\n",
    "    return df\n",
    "\n",
    "columns_to_fill = ['DV', 'BAS', 'annual_TRV', 'IV', 'MB']\n",
    "\n",
    "final_df = fill_missing_with_median(final_df, columns_to_fill, 'TICKER')"
   ]
  },
  {
   "cell_type": "code",
   "execution_count": 126,
   "id": "783bb297",
   "metadata": {},
   "outputs": [
    {
     "name": "stdout",
     "output_type": "stream",
     "text": [
      "PERMNO               0\n",
      "date                 0\n",
      "TICKER               0\n",
      "PRC                  0\n",
      "SHROUT               0\n",
      "VOL                  0\n",
      "RET                  0\n",
      "SICCD                0\n",
      "COMNAM               0\n",
      "NAICS                0\n",
      "ntis                 0\n",
      "tbl                  0\n",
      "T10Y3MM              0\n",
      "gpce                 0\n",
      "12m_momentum         0\n",
      "industry_momentum    0\n",
      "1m_reversal          0\n",
      "EXRET                0\n",
      "MV                   0\n",
      "year                 0\n",
      "DV                   0\n",
      "BAS                  0\n",
      "annual_TRV           0\n",
      "IV                   0\n",
      "MB                   0\n",
      "dtype: int64\n"
     ]
    }
   ],
   "source": [
    "missing_values_after = final_df.isnull().sum()\n",
    "print(missing_values_after)"
   ]
  },
  {
   "cell_type": "code",
   "execution_count": 127,
   "id": "ee1bb01e",
   "metadata": {},
   "outputs": [],
   "source": [
    "final_df.to_csv('Data/final_merged_dataset1.csv', index=False)"
   ]
  },
  {
   "cell_type": "markdown",
   "id": "b62474ac",
   "metadata": {},
   "source": [
    "# Final Final Merge - including Financial Ratio"
   ]
  },
  {
   "cell_type": "code",
   "execution_count": 128,
   "id": "24a783af",
   "metadata": {},
   "outputs": [],
   "source": [
    "financial_ratio_df = pd.read_csv('Data/Financial Ratio - 3Annual.csv')"
   ]
  },
  {
   "cell_type": "code",
   "execution_count": 129,
   "id": "a6d2a0b0",
   "metadata": {},
   "outputs": [],
   "source": [
    "financial_ratio_df.rename(columns={\n",
    "    'Data Year - Fiscal': 'year',\n",
    "    'Ticker Symbol': 'TICKER',\n",
    "    'Company Name': 'COMNAM'\n",
    "}, inplace=True)"
   ]
  },
  {
   "cell_type": "code",
   "execution_count": 130,
   "id": "cf594aa2",
   "metadata": {},
   "outputs": [],
   "source": [
    "final_df = pd.merge(final_df, financial_ratio_df[['year', 'TICKER', 'COMNAM', 'Book-to-Market', 'Earnings-Price', 'Sales-to-Price']], on=['year', 'TICKER', 'COMNAM'], how='left')"
   ]
  },
  {
   "cell_type": "code",
   "execution_count": 131,
   "id": "29934331",
   "metadata": {},
   "outputs": [
    {
     "name": "stdout",
     "output_type": "stream",
     "text": [
      "PERMNO                   0\n",
      "date                     0\n",
      "TICKER                   0\n",
      "PRC                      0\n",
      "SHROUT                   0\n",
      "VOL                      0\n",
      "RET                      0\n",
      "SICCD                    0\n",
      "COMNAM                   0\n",
      "NAICS                    0\n",
      "ntis                     0\n",
      "tbl                      0\n",
      "T10Y3MM                  0\n",
      "gpce                     0\n",
      "12m_momentum             0\n",
      "industry_momentum        0\n",
      "1m_reversal              0\n",
      "EXRET                    0\n",
      "MV                       0\n",
      "year                     0\n",
      "DV                       0\n",
      "BAS                      0\n",
      "annual_TRV               0\n",
      "IV                       0\n",
      "MB                       0\n",
      "Book-to-Market       62007\n",
      "Earnings-Price       62007\n",
      "Sales-to-Price       62007\n",
      "dtype: int64\n"
     ]
    }
   ],
   "source": [
    "missing_values_after_merge = final_df.isnull().sum()\n",
    "print(missing_values_after_merge)"
   ]
  },
  {
   "cell_type": "code",
   "execution_count": 132,
   "id": "a5b15853",
   "metadata": {},
   "outputs": [],
   "source": [
    "final_df['year'] = final_df['year'].astype(int)"
   ]
  },
  {
   "cell_type": "code",
   "execution_count": 143,
   "id": "e9c5f495",
   "metadata": {},
   "outputs": [],
   "source": [
    "def fill_missing_with_median(df, columns, groupby_col):\n",
    "    for col in columns:\n",
    "        df[col] = df.groupby(groupby_col)[col].transform(lambda x: x.fillna(x.median()))\n",
    "    return df\n",
    "\n",
    "columns_to_fill = ['Book-to-Market', 'Earnings-Price', 'Sales-to-Price']\n",
    "\n",
    "final_df = fill_missing_with_median(final_df, columns_to_fill, 'TICKER')"
   ]
  },
  {
   "cell_type": "code",
   "execution_count": 144,
   "id": "35c44489",
   "metadata": {},
   "outputs": [
    {
     "name": "stdout",
     "output_type": "stream",
     "text": [
      "PERMNO                   0\n",
      "date                     0\n",
      "TICKER                   0\n",
      "PRC                      0\n",
      "SHROUT                   0\n",
      "VOL                      0\n",
      "RET                      0\n",
      "SICCD                    0\n",
      "COMNAM                   0\n",
      "NAICS                    0\n",
      "ntis                     0\n",
      "tbl                      0\n",
      "T10Y3MM                  0\n",
      "gpce                     0\n",
      "12m_momentum             0\n",
      "industry_momentum        0\n",
      "1m_reversal              0\n",
      "EXRET                    0\n",
      "MV                       0\n",
      "year                     0\n",
      "DV                       0\n",
      "BAS                      0\n",
      "annual_TRV               0\n",
      "IV                       0\n",
      "MB                       0\n",
      "Book-to-Market       13718\n",
      "Earnings-Price       13718\n",
      "Sales-to-Price       13718\n",
      "dtype: int64\n"
     ]
    }
   ],
   "source": [
    "missing_values_after_merge = final_df.isnull().sum()\n",
    "print(missing_values_after_merge)"
   ]
  },
  {
   "cell_type": "code",
   "execution_count": 145,
   "id": "bca06ec3",
   "metadata": {},
   "outputs": [],
   "source": [
    "final_df.to_csv('Data/FINAL_DF.csv', index=False)"
   ]
  },
  {
   "cell_type": "code",
   "execution_count": null,
   "id": "04bc7d10",
   "metadata": {},
   "outputs": [],
   "source": []
  },
  {
   "cell_type": "markdown",
   "id": "706403e4",
   "metadata": {},
   "source": [
    "# Balanced Panel Filter: 500 -> 325 (no missing value)"
   ]
  },
  {
   "cell_type": "code",
   "execution_count": 146,
   "id": "bf63771f",
   "metadata": {},
   "outputs": [
    {
     "name": "stdout",
     "output_type": "stream",
     "text": [
      "The number of companies with exactly 240 records is: 328\n",
      "Companies with exactly 240 records are:\n",
      "['MAS', 'LRCX', 'MAR', 'MAA', 'MCD', 'MCHP', 'MCK', 'LUV', 'A', 'LOW', 'LNT', 'LMT', 'LLY', 'LH', 'LEE', 'KR', 'KO', 'KMX', 'KMB', 'MCO', 'MHK', 'MDT', 'MTD', 'NTRS', 'NTAP', 'NSC', 'NOC', 'NKE', 'NI', 'NFLX', 'NEM', 'NDSN', 'MU', 'MTB', 'MET', 'MSFT', 'MRO', 'MRK', 'MOH', 'MO', 'MMM', 'MMC', 'MLM', 'KIM', 'MGM', 'KLAC', 'JNPR', 'KEY', 'HPQ', 'HOLX', 'HIG', 'HD', 'HBAN', 'HAS', 'HAL', 'GWW', 'GS', 'GRMN', 'GPN', 'GPC', 'GLW', 'GIS', 'GILD', 'GE', 'GD', 'FRT', 'FMC', 'FITB', 'FFIV', 'FE', 'FDX', 'FDS', 'HON', 'HRL', 'K', 'HSIC', 'NVDA', 'JNJ', 'JKHY', 'JBL', 'JBHT', 'ITW', 'ITT', 'ITI', 'ISRG', 'IRM', 'IR', 'IPG', 'IP', 'INTU', 'INTC', 'INCY', 'ILMN', 'IFF', 'IEX', 'IDXX', 'IBM', 'HUM', 'HSY', 'NUE', 'OKE', 'NVR', 'STLD', 'UHS', 'UDR', 'TYL', 'TXT', 'TXN', 'TTWO', 'TSN', 'TSCO', 'TROW', 'TRMB', 'TMO', 'TJX', 'TGT', 'TFX', 'TER', 'TECH', 'TDY', 'T', 'SYY', 'SYK', 'SWKS', 'SWK', 'STX', 'UNH', 'UNP', 'UPS', 'WEC', 'ZBRA', 'YUM', 'XOM', 'XEL', 'WYNN', 'WY', 'WST', 'WMT', 'WMB', 'WFC', 'WDC', 'URI', 'WAT', 'WABC', 'WAB', 'VZ', 'VTR', 'VRTX', 'VRSN', 'VMC', 'VLO', 'USB', 'STT', 'STE', 'O', 'SRE', 'PPL', 'PPG', 'POOL', 'PNW', 'PNC', 'PKG', 'PHM', 'PH', 'PGR', 'PG', 'PFG', 'PFE', 'PEP', 'PEG', 'PCG', 'PCAR', 'PAYX', 'OXY', 'ORLY', 'ORCL', 'OMC', 'FAST', 'ODFL', 'PRU', 'PSA', 'PWR', 'ROST', 'SPG', 'SO', 'SNPS', 'SNA', 'SLB', 'SJM', 'SHW', 'SBUX', 'SBAC', 'RSG', 'ROP', 'QCOM', 'ROL', 'ROK', 'RMD', 'RL', 'RJF', 'RHI', 'RF', 'REGN', 'REG', 'RCL', 'FCX', 'JPM', 'CSX', 'BA', 'AMAT', 'AVB', 'DECK', 'CMI', 'CME', 'CMCSA', 'DGX', 'DHI', 'CMA', 'DHR', 'DIS', 'ALL', 'AVY', 'CLX', 'DLTR', 'CL', 'DOV', 'CINF', 'DRI', 'ALGN', 'DTE', 'DUK', 'ALB', 'DVA', 'DVN', 'AKAM', 'AXP', 'AZO', 'EBAY', 'DE', 'CMS', 'CMT', 'AMT', 'CPT', 'CPRT', 'CPB', 'COST', 'CSCO', 'COP', 'AOS', 'ANSS', 'AMZN', 'CSGP', 'APA', 'APD', 'CTAS', 'COO', 'ATO', 'APH', 'ARE', 'COF', 'CTSH', 'AMGN', 'CVS', 'ATI', 'AME', 'CNP', 'AMD', 'CVX', 'CNC', 'D', 'AJG', 'ECL', 'ED', 'ADSK', 'AIZ', 'ADM', 'CCL', 'CCI', 'ESS', 'ADI', 'ADBE', 'ETN', 'ACN', 'ACGL', 'BIIB', 'ETR', 'BK', 'CAT', 'BLK', 'ABT', 'CAH', 'CAG', 'C', 'BXP', 'BWA', 'EW', 'EXC', 'BSX', 'AAPL', 'BRO', 'EXPD', 'BMY', 'F', 'ADP', 'CRL', 'EFX', 'BBY', 'CHD', 'EIX', 'BAX', 'EL', 'AIG', 'EMN', 'CI', 'EMR', 'AFL', 'BAC', 'CHRW', 'AEE', 'BEN', 'EOG', 'BG', 'AES', 'BDX', 'AEP', 'EQIX', 'EQR', 'EQT']\n"
     ]
    }
   ],
   "source": [
    "company_counts = final_df['TICKER'].value_counts()\n",
    "\n",
    "complete_companies = company_counts[company_counts == 240]\n",
    "\n",
    "print(f\"The number of companies with exactly 240 records is: {complete_companies.shape[0]}\")\n",
    "\n",
    "print(\"Companies with exactly 240 records are:\")\n",
    "print(complete_companies.index.tolist())"
   ]
  },
  {
   "cell_type": "code",
   "execution_count": 147,
   "id": "3d3af3e4",
   "metadata": {},
   "outputs": [
    {
     "name": "stdout",
     "output_type": "stream",
     "text": [
      "<class 'pandas.core.frame.DataFrame'>\n",
      "Index: 78720 entries, 0 to 117288\n",
      "Data columns (total 28 columns):\n",
      " #   Column             Non-Null Count  Dtype  \n",
      "---  ------             --------------  -----  \n",
      " 0   PERMNO             78720 non-null  int64  \n",
      " 1   date               78720 non-null  object \n",
      " 2   TICKER             78720 non-null  object \n",
      " 3   PRC                78720 non-null  float64\n",
      " 4   SHROUT             78720 non-null  float64\n",
      " 5   VOL                78720 non-null  float64\n",
      " 6   RET                78720 non-null  float64\n",
      " 7   SICCD              78720 non-null  float64\n",
      " 8   COMNAM             78720 non-null  object \n",
      " 9   NAICS              78720 non-null  float64\n",
      " 10  ntis               78720 non-null  float64\n",
      " 11  tbl                78720 non-null  float64\n",
      " 12  T10Y3MM            78720 non-null  float64\n",
      " 13  gpce               78720 non-null  float64\n",
      " 14  12m_momentum       78720 non-null  float64\n",
      " 15  industry_momentum  78720 non-null  float64\n",
      " 16  1m_reversal        78720 non-null  float64\n",
      " 17  EXRET              78720 non-null  float64\n",
      " 18  MV                 78720 non-null  float64\n",
      " 19  year               78720 non-null  int64  \n",
      " 20  DV                 78720 non-null  float64\n",
      " 21  BAS                78720 non-null  float64\n",
      " 22  annual_TRV         78720 non-null  float64\n",
      " 23  IV                 78720 non-null  float64\n",
      " 24  MB                 78720 non-null  float64\n",
      " 25  Book-to-Market     70320 non-null  float64\n",
      " 26  Earnings-Price     70320 non-null  float64\n",
      " 27  Sales-to-Price     70320 non-null  float64\n",
      "dtypes: float64(23), int64(2), object(3)\n",
      "memory usage: 17.4+ MB\n",
      "None\n"
     ]
    }
   ],
   "source": [
    "company_counts = final_df['TICKER'].value_counts()\n",
    "\n",
    "complete_companies = company_counts[company_counts == 240].index\n",
    "\n",
    "final_df_filtered = final_df[final_df['TICKER'].isin(complete_companies)]\n",
    "\n",
    "print(final_df_filtered.info())"
   ]
  },
  {
   "cell_type": "code",
   "execution_count": 148,
   "id": "d962e476",
   "metadata": {},
   "outputs": [
    {
     "name": "stdout",
     "output_type": "stream",
     "text": [
      "PERMNO                  0\n",
      "date                    0\n",
      "TICKER                  0\n",
      "PRC                     0\n",
      "SHROUT                  0\n",
      "VOL                     0\n",
      "RET                     0\n",
      "SICCD                   0\n",
      "COMNAM                  0\n",
      "NAICS                   0\n",
      "ntis                    0\n",
      "tbl                     0\n",
      "T10Y3MM                 0\n",
      "gpce                    0\n",
      "12m_momentum            0\n",
      "industry_momentum       0\n",
      "1m_reversal             0\n",
      "EXRET                   0\n",
      "MV                      0\n",
      "year                    0\n",
      "DV                      0\n",
      "BAS                     0\n",
      "annual_TRV              0\n",
      "IV                      0\n",
      "MB                      0\n",
      "Book-to-Market       8400\n",
      "Earnings-Price       8400\n",
      "Sales-to-Price       8400\n",
      "dtype: int64\n"
     ]
    }
   ],
   "source": [
    "missing_values_after_merge = final_df_filtered.isnull().sum()\n",
    "print(missing_values_after_merge)"
   ]
  },
  {
   "cell_type": "code",
   "execution_count": 149,
   "id": "784c4aed",
   "metadata": {},
   "outputs": [
    {
     "name": "stdout",
     "output_type": "stream",
     "text": [
      "The number of companies with exactly 240 records and no missing values is: 293\n"
     ]
    }
   ],
   "source": [
    "companies_without_missing_values = final_df_filtered.dropna(subset=final_df_filtered.columns)\n",
    "\n",
    "complete_company_counts = companies_without_missing_values['TICKER'].value_counts()\n",
    "\n",
    "complete_companies_no_missing = complete_company_counts[complete_company_counts == 240]\n",
    "\n",
    "print(f\"The number of companies with exactly 240 records and no missing values is: {complete_companies_no_missing.shape[0]}\")"
   ]
  },
  {
   "cell_type": "code",
   "execution_count": 150,
   "id": "32b5522c",
   "metadata": {},
   "outputs": [],
   "source": [
    "final_df_no_missing = final_df_filtered[final_df_filtered['TICKER'].isin(complete_companies_no_missing.index)]"
   ]
  },
  {
   "cell_type": "code",
   "execution_count": 151,
   "id": "3c4894eb",
   "metadata": {},
   "outputs": [
    {
     "name": "stdout",
     "output_type": "stream",
     "text": [
      "PERMNO               0\n",
      "date                 0\n",
      "TICKER               0\n",
      "PRC                  0\n",
      "SHROUT               0\n",
      "VOL                  0\n",
      "RET                  0\n",
      "SICCD                0\n",
      "COMNAM               0\n",
      "NAICS                0\n",
      "ntis                 0\n",
      "tbl                  0\n",
      "T10Y3MM              0\n",
      "gpce                 0\n",
      "12m_momentum         0\n",
      "industry_momentum    0\n",
      "1m_reversal          0\n",
      "EXRET                0\n",
      "MV                   0\n",
      "year                 0\n",
      "DV                   0\n",
      "BAS                  0\n",
      "annual_TRV           0\n",
      "IV                   0\n",
      "MB                   0\n",
      "Book-to-Market       0\n",
      "Earnings-Price       0\n",
      "Sales-to-Price       0\n",
      "dtype: int64\n"
     ]
    }
   ],
   "source": [
    "missing_values_after_merge = final_df_no_missing.isnull().sum()\n",
    "print(missing_values_after_merge)"
   ]
  },
  {
   "cell_type": "code",
   "execution_count": 152,
   "id": "ad52ae54",
   "metadata": {},
   "outputs": [],
   "source": [
    "final_df_no_missing.to_csv('Data/final_df_no_missing_293.csv', index=False)"
   ]
  },
  {
   "cell_type": "code",
   "execution_count": null,
   "id": "b65528dd",
   "metadata": {},
   "outputs": [],
   "source": []
  }
 ],
 "metadata": {
  "kernelspec": {
   "display_name": "Python 3 (ipykernel)",
   "language": "python",
   "name": "python3"
  },
  "language_info": {
   "codemirror_mode": {
    "name": "ipython",
    "version": 3
   },
   "file_extension": ".py",
   "mimetype": "text/x-python",
   "name": "python",
   "nbconvert_exporter": "python",
   "pygments_lexer": "ipython3",
   "version": "3.11.8"
  }
 },
 "nbformat": 4,
 "nbformat_minor": 5
}
